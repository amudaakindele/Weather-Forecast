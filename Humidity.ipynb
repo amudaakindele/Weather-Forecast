{
 "cells": [
  {
   "cell_type": "code",
   "execution_count": 1,
   "metadata": {},
   "outputs": [],
   "source": [
    "import os\n",
    "os.chdir('C:/Users/KAMAR/Videos/ML')\n",
    "import warnings\n",
    "warnings.filterwarnings('ignore')\n",
    "import numpy as np\n",
    "import pandas as pd\n",
    "import seaborn as sns\n",
    "import matplotlib.pyplot as plt\n",
    "from pandas import DataFrame\n",
    "from matplotlib import pyplot\n",
    "import tensorflow as tf\n",
    "\n",
    "import chart_studio.plotly as py\n",
    "import plotly.graph_objs as go\n",
    "import plotly.io as pio\n",
    "\n",
    "from keras.preprocessing.sequence import TimeseriesGenerator\n",
    "\n",
    "import matplotlib.pyplot as plt"
   ]
  },
  {
   "cell_type": "code",
   "execution_count": 2,
   "metadata": {},
   "outputs": [],
   "source": [
    "df= pd.read_csv('hu.csv')"
   ]
  },
  {
   "cell_type": "code",
   "execution_count": 3,
   "metadata": {},
   "outputs": [],
   "source": [
    "df['date']=pd.to_datetime(df['date'])"
   ]
  },
  {
   "cell_type": "code",
   "execution_count": 4,
   "metadata": {},
   "outputs": [
    {
     "name": "stdout",
     "output_type": "stream",
     "text": [
      "6272\n",
      "1107\n"
     ]
    }
   ],
   "source": [
    "close_data = df['humidity'].values\n",
    "close_data=close_data.reshape((-1,1))\n",
    "split_percent = 0.85\n",
    "split = int(split_percent*len(close_data))\n",
    "close_train = close_data[:split]\n",
    "close_test = close_data[split:]\n",
    "data_train = df['date'][:split]\n",
    "data_test=df['date'][split:]\n",
    "print(len(close_train))\n",
    "print(len(close_test))"
   ]
  },
  {
   "cell_type": "code",
   "execution_count": 5,
   "metadata": {},
   "outputs": [
    {
     "data": {
      "text/html": [
       "<div>\n",
       "<style scoped>\n",
       "    .dataframe tbody tr th:only-of-type {\n",
       "        vertical-align: middle;\n",
       "    }\n",
       "\n",
       "    .dataframe tbody tr th {\n",
       "        vertical-align: top;\n",
       "    }\n",
       "\n",
       "    .dataframe thead th {\n",
       "        text-align: right;\n",
       "    }\n",
       "</style>\n",
       "<table border=\"1\" class=\"dataframe\">\n",
       "  <thead>\n",
       "    <tr style=\"text-align: right;\">\n",
       "      <th></th>\n",
       "      <th>date</th>\n",
       "      <th>humidity</th>\n",
       "    </tr>\n",
       "  </thead>\n",
       "  <tbody>\n",
       "    <tr>\n",
       "      <th>0</th>\n",
       "      <td>1999-01-01</td>\n",
       "      <td>76.0</td>\n",
       "    </tr>\n",
       "    <tr>\n",
       "      <th>1</th>\n",
       "      <td>1999-01-02</td>\n",
       "      <td>76.5</td>\n",
       "    </tr>\n",
       "    <tr>\n",
       "      <th>2</th>\n",
       "      <td>1999-01-03</td>\n",
       "      <td>72.5</td>\n",
       "    </tr>\n",
       "    <tr>\n",
       "      <th>3</th>\n",
       "      <td>1999-01-04</td>\n",
       "      <td>76.0</td>\n",
       "    </tr>\n",
       "    <tr>\n",
       "      <th>4</th>\n",
       "      <td>1999-01-05</td>\n",
       "      <td>76.5</td>\n",
       "    </tr>\n",
       "  </tbody>\n",
       "</table>\n",
       "</div>"
      ],
      "text/plain": [
       "        date  humidity\n",
       "0 1999-01-01      76.0\n",
       "1 1999-01-02      76.5\n",
       "2 1999-01-03      72.5\n",
       "3 1999-01-04      76.0\n",
       "4 1999-01-05      76.5"
      ]
     },
     "execution_count": 5,
     "metadata": {},
     "output_type": "execute_result"
    }
   ],
   "source": [
    "df.head()"
   ]
  },
  {
   "cell_type": "code",
   "execution_count": 6,
   "metadata": {},
   "outputs": [],
   "source": [
    "look_back = 15\n",
    "train_generator = TimeseriesGenerator(close_train,close_train,length=look_back,batch_size=20)\n",
    "test_generator = TimeseriesGenerator(close_test,close_test,length=look_back,batch_size=1)"
   ]
  },
  {
   "cell_type": "code",
   "execution_count": 7,
   "metadata": {},
   "outputs": [
    {
     "name": "stdout",
     "output_type": "stream",
     "text": [
      "WARNING:tensorflow:From <ipython-input-7-cf7c8e45c017>:18: Model.fit_generator (from tensorflow.python.keras.engine.training) is deprecated and will be removed in a future version.\n",
      "Instructions for updating:\n",
      "Please use Model.fit, which supports generators.\n",
      "Epoch 1/25\n",
      "313/313 [==============================] - 2s 7ms/step - loss: 58884.6602 - mse: 58884.6602\n",
      "Epoch 2/25\n",
      "313/313 [==============================] - 2s 7ms/step - loss: 536.0005 - mse: 536.0005\n",
      "Epoch 3/25\n",
      "313/313 [==============================] - 2s 7ms/step - loss: 240.6814 - mse: 240.6814\n",
      "Epoch 4/25\n",
      "313/313 [==============================] - 3s 8ms/step - loss: 332.1572 - mse: 332.1572\n",
      "Epoch 5/25\n",
      "313/313 [==============================] - 2s 8ms/step - loss: 300.0707 - mse: 300.0707\n",
      "Epoch 6/25\n",
      "313/313 [==============================] - 2s 8ms/step - loss: 200.6809 - mse: 200.6809\n",
      "Epoch 7/25\n",
      "313/313 [==============================] - 2s 7ms/step - loss: 165.4572 - mse: 165.4572\n",
      "Epoch 8/25\n",
      "313/313 [==============================] - 2s 7ms/step - loss: 164.9516 - mse: 164.9516\n",
      "Epoch 9/25\n",
      "313/313 [==============================] - 2s 7ms/step - loss: 139.3335 - mse: 139.3335\n",
      "Epoch 10/25\n",
      "313/313 [==============================] - 2s 7ms/step - loss: 137.2961 - mse: 137.2961\n",
      "Epoch 11/25\n",
      "313/313 [==============================] - 2s 7ms/step - loss: 145.2787 - mse: 145.2787\n",
      "Epoch 12/25\n",
      "313/313 [==============================] - 2s 7ms/step - loss: 152.8675 - mse: 152.8675\n",
      "Epoch 13/25\n",
      "313/313 [==============================] - 2s 7ms/step - loss: 119.7409 - mse: 119.7409\n",
      "Epoch 14/25\n",
      "313/313 [==============================] - 2s 7ms/step - loss: 148.5415 - mse: 148.5415\n",
      "Epoch 15/25\n",
      "313/313 [==============================] - 2s 7ms/step - loss: 133.8214 - mse: 133.8214\n",
      "Epoch 16/25\n",
      "313/313 [==============================] - 2s 7ms/step - loss: 130.3756 - mse: 130.3756\n",
      "Epoch 17/25\n",
      "313/313 [==============================] - 2s 7ms/step - loss: 290.5221 - mse: 290.5221\n",
      "Epoch 18/25\n",
      "313/313 [==============================] - 2s 7ms/step - loss: 150.8989 - mse: 150.8989\n",
      "Epoch 19/25\n",
      "313/313 [==============================] - 2s 7ms/step - loss: 112.9379 - mse: 112.9379\n",
      "Epoch 20/25\n",
      "313/313 [==============================] - 2s 7ms/step - loss: 94.2199 - mse: 94.2199\n",
      "Epoch 21/25\n",
      "313/313 [==============================] - 2s 7ms/step - loss: 82.1278 - mse: 82.1278\n",
      "Epoch 22/25\n",
      "313/313 [==============================] - 2s 7ms/step - loss: 80.5531 - mse: 80.5531\n",
      "Epoch 23/25\n",
      "313/313 [==============================] - 2s 7ms/step - loss: 76.4774 - mse: 76.4774\n",
      "Epoch 24/25\n",
      "313/313 [==============================] - 2s 7ms/step - loss: 73.7502 - mse: 73.7502\n",
      "Epoch 25/25\n",
      "313/313 [==============================] - 2s 7ms/step - loss: 72.7719 - mse: 72.7719\n"
     ]
    },
    {
     "data": {
      "text/plain": [
       "<tensorflow.python.keras.callbacks.History at 0x1e4161832e8>"
      ]
     },
     "execution_count": 7,
     "metadata": {},
     "output_type": "execute_result"
    }
   ],
   "source": [
    "#model_type = 2\n",
    "from keras.models import Sequential\n",
    "from keras.layers import LSTM, Dense, Dropout\n",
    "\n",
    "\n",
    "\n",
    "\n",
    "\n",
    "model = Sequential()\n",
    "model.add(LSTM(10,activation='relu',input_shape=(look_back,1)))\n",
    "#model.Dropout(0.5)\n",
    "model.add(Dense(1))\n",
    "\n",
    "\n",
    "model.compile(optimizer='adam', loss = 'mean_squared_error', metrics=['mse'])\n",
    "\n",
    "num_epochs = 25\n",
    "model.fit_generator(train_generator,epochs=num_epochs,verbose=1,shuffle=True)"
   ]
  },
  {
   "cell_type": "code",
   "execution_count": 8,
   "metadata": {},
   "outputs": [
    {
     "name": "stdout",
     "output_type": "stream",
     "text": [
      "WARNING:tensorflow:From <ipython-input-8-342c80f366ab>:1: Model.predict_generator (from tensorflow.python.keras.engine.training) is deprecated and will be removed in a future version.\n",
      "Instructions for updating:\n",
      "Please use Model.predict, which supports generators.\n"
     ]
    }
   ],
   "source": [
    "prediction = model.predict_generator(test_generator)"
   ]
  },
  {
   "cell_type": "code",
   "execution_count": 9,
   "metadata": {},
   "outputs": [],
   "source": [
    "close_train=close_train.reshape((-1))\n",
    "close_test=close_test.reshape((-1))\n",
    "prediction=prediction.reshape((-1))"
   ]
  },
  {
   "cell_type": "code",
   "execution_count": 10,
   "metadata": {},
   "outputs": [],
   "source": [
    "tracel = go.Scatter(x=data_train,y=close_train,mode='lines',name='Data')\n",
    "trace2=go.Scatter(x=data_test,y=prediction,mode='lines',name='Prediction')\n",
    "trace3= go.Scatter(x=data_test,y=close_test,mode='lines',name='Ground Truth')\n",
    "layout = go.Layout(title='Weather Forecast',xaxis={'title':'Date'},yaxis={'title':'Humidity'})\n",
    "fig = go.Figure(data=[tracel,trace2, trace3], layout=layout)"
   ]
  },
  {
   "cell_type": "code",
   "execution_count": 11,
   "metadata": {},
   "outputs": [],
   "source": [
    "pio.write_html(fig,file='humidt.html',auto_open=True)"
   ]
  },
  {
   "cell_type": "code",
   "execution_count": 12,
   "metadata": {},
   "outputs": [],
   "source": [
    "close_data = close_data.reshape((-1))\n",
    "\n",
    "def predict(num_prediction, model):\n",
    "    prediction_list = close_data[-look_back:]\n",
    "    \n",
    "    for _ in range(num_prediction):\n",
    "        x = prediction_list[-look_back:]\n",
    "        x = x.reshape((1, look_back, 1))\n",
    "        out = model.predict(x)[0][0]\n",
    "        prediction_list = np.append(prediction_list, out)\n",
    "    prediction_list = prediction_list[look_back-1:]\n",
    "        \n",
    "    return prediction_list\n",
    "    \n",
    "def predict_dates(num_prediction):\n",
    "    last_date = df['date'].values[-1]\n",
    "    prediction_dates = pd.date_range(last_date, periods=num_prediction+1).tolist()\n",
    "    return prediction_dates\n",
    "\n",
    "num_prediction = 730\n",
    "forecast = predict(num_prediction, model)\n",
    "forecast_dates = predict_dates(num_prediction)"
   ]
  },
  {
   "cell_type": "code",
   "execution_count": 13,
   "metadata": {},
   "outputs": [],
   "source": [
    "#forecast_dates=pd.to_datetime['forecast_dates']"
   ]
  },
  {
   "cell_type": "code",
   "execution_count": 14,
   "metadata": {},
   "outputs": [],
   "source": [
    "trace1 = go.Scatter(\n",
    "    x = data_train,\n",
    "    y = close_train,\n",
    "    mode = 'lines',\n",
    "    name = 'Data'\n",
    ")\n",
    "\n",
    "trace2=go.Scatter(x=data_test,y=prediction,\n",
    "                  mode='lines',name='Prediction')\n",
    "\n",
    "trace3 = go.Scatter(\n",
    "    x = forecast_dates,\n",
    "    y = forecast,\n",
    "    mode = 'lines',\n",
    "    name = 'Forecast')\n",
    "layout= go.Layout(title='Predicted Values',xaxis={'title':'Date'},yaxis={'title':'Humidity'})\n",
    "fig = go.Figure(data=[tracel,trace2,trace3],layout=layout)"
   ]
  },
  {
   "cell_type": "code",
   "execution_count": 15,
   "metadata": {},
   "outputs": [],
   "source": [
    "pio.write_html(fig,file='hum2.html',auto_open=True)"
   ]
  },
  {
   "cell_type": "code",
   "execution_count": null,
   "metadata": {},
   "outputs": [],
   "source": []
  }
 ],
 "metadata": {
  "kernelspec": {
   "display_name": "Python 3",
   "language": "python",
   "name": "python3"
  },
  "language_info": {
   "codemirror_mode": {
    "name": "ipython",
    "version": 3
   },
   "file_extension": ".py",
   "mimetype": "text/x-python",
   "name": "python",
   "nbconvert_exporter": "python",
   "pygments_lexer": "ipython3",
   "version": "3.6.5"
  }
 },
 "nbformat": 4,
 "nbformat_minor": 4
}
